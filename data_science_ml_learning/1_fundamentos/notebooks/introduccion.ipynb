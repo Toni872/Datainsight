{
 "cells": [
  {
   "cell_type": "markdown",
   "id": "1d582a32",
   "metadata": {},
   "source": [
    "# Introducción a Ciencia de Datos y Machine Learning\n",
    "\n",
    "Este notebook sirve como una introducción básica a las herramientas principales que usaremos en nuestro proyecto."
   ]
  },
  {
   "cell_type": "code",
   "execution_count": null,
   "id": "61199352",
   "metadata": {},
   "outputs": [],
   "source": [
    "# Importar las bibliotecas principales\n",
    "import numpy as np\n",
    "import pandas as pd\n",
    "import matplotlib.pyplot as plt\n",
    "import seaborn as sns\n",
    "\n",
    "# Configuración para visualizaciones\n",
    "%matplotlib inline\n",
    "plt.style.use('seaborn')\n",
    "sns.set(font_scale=1.2)"
   ]
  },
  {
   "cell_type": "markdown",
   "id": "f2fbd8e1",
   "metadata": {},
   "source": [
    "## Ejemplo básico de NumPy\n",
    "\n",
    "NumPy es la biblioteca fundamental para computación científica en Python."
   ]
  },
  {
   "cell_type": "code",
   "execution_count": null,
   "id": "422300f3",
   "metadata": {},
   "outputs": [],
   "source": [
    "# Crear un array de NumPy\n",
    "arr = np.array([1, 2, 3, 4, 5])\n",
    "print(f\"Array: {arr}\")\n",
    "print(f\"Media: {arr.mean()}\")\n",
    "print(f\"Desviación estándar: {arr.std()}\")\n",
    "\n",
    "# Matriz 2D\n",
    "matriz = np.array([[1, 2, 3], [4, 5, 6], [7, 8, 9]])\n",
    "print(f\"\\nMatriz:\\n{matriz}\")\n",
    "print(f\"Forma: {matriz.shape}\")"
   ]
  },
  {
   "cell_type": "markdown",
   "id": "94f4406b",
   "metadata": {},
   "source": [
    "## Ejemplo básico de Pandas\n",
    "\n",
    "Pandas es una biblioteca para manipulación y análisis de datos."
   ]
  },
  {
   "cell_type": "code",
   "execution_count": null,
   "id": "ff0df988",
   "metadata": {},
   "outputs": [],
   "source": [
    "# Crear un DataFrame de Pandas\n",
    "df = pd.DataFrame({\n",
    "    'Nombre': ['Ana', 'Juan', 'María', 'Pedro', 'Lucía'],\n",
    "    'Edad': [25, 30, 22, 40, 35],\n",
    "    'Ciudad': ['Madrid', 'Barcelona', 'Valencia', 'Sevilla', 'Málaga']\n",
    "})\n",
    "\n",
    "print(\"DataFrame de ejemplo:\")\n",
    "print(df)\n",
    "\n",
    "# Estadísticas descriptivas\n",
    "print(\"\\nEstadísticas descriptivas:\")\n",
    "print(df.describe())"
   ]
  },
  {
   "cell_type": "markdown",
   "id": "26b2ee0e",
   "metadata": {},
   "source": [
    "## Visualización con Matplotlib y Seaborn\n",
    "\n",
    "Estas bibliotecas son útiles para crear visualizaciones."
   ]
  },
  {
   "cell_type": "code",
   "execution_count": null,
   "id": "6350bf5e",
   "metadata": {},
   "outputs": [],
   "source": [
    "# Crear datos de ejemplo\n",
    "x = np.linspace(0, 10, 100)\n",
    "y = np.sin(x)\n",
    "\n",
    "# Visualización con Matplotlib\n",
    "plt.figure(figsize=(10, 6))\n",
    "plt.plot(x, y, 'b-', label='sin(x)')\n",
    "plt.plot(x, np.cos(x), 'r--', label='cos(x)')\n",
    "plt.title('Funciones trigonométricas')\n",
    "plt.xlabel('x')\n",
    "plt.ylabel('y')\n",
    "plt.legend()\n",
    "plt.grid(True)\n",
    "plt.show()\n",
    "\n",
    "# Visualización con Seaborn\n",
    "plt.figure(figsize=(8, 6))\n",
    "sns.histplot(np.random.normal(0, 1, 1000), kde=True)\n",
    "plt.title('Histograma de distribución normal')\n",
    "plt.xlabel('Valor')\n",
    "plt.ylabel('Frecuencia')\n",
    "plt.show()"
   ]
  },
  {
   "cell_type": "markdown",
   "id": "e3249ce4",
   "metadata": {},
   "source": [
    "## Próximos pasos\n",
    "\n",
    "Este notebook es solo una introducción básica. En los siguientes notebooks, exploraremos conceptos más avanzados como:\n",
    "\n",
    "1. Limpieza y preprocesamiento de datos\n",
    "2. Análisis exploratorio de datos (EDA)\n",
    "3. Algoritmos de machine learning\n",
    "4. Evaluación de modelos\n",
    "5. Deep learning\n",
    "\n",
    "¡Sigue explorando las carpetas del proyecto para más contenido!"
   ]
  }
 ],
 "metadata": {
  "language_info": {
   "name": "python"
  }
 },
 "nbformat": 4,
 "nbformat_minor": 5
}
